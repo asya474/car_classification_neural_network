{
  "nbformat": 4,
  "nbformat_minor": 0,
  "metadata": {
    "colab": {
      "provenance": [],
      "collapsed_sections": [],
      "toc_visible": true,
      "mount_file_id": "1m1EO_3snk9G46drBupnHNC3yB6SE7zDT",
      "authorship_tag": "ABX9TyP4YqKG0BXtkwALcr3aLneI",
      "include_colab_link": true
    },
    "kernelspec": {
      "name": "python3",
      "display_name": "Python 3"
    },
    "language_info": {
      "name": "python"
    },
    "gpuClass": "standard"
  },
  "cells": [
    {
      "cell_type": "markdown",
      "metadata": {
        "id": "view-in-github",
        "colab_type": "text"
      },
      "source": [
        "<a href=\"https://colab.research.google.com/github/asya474/car_classification_neural_network/blob/main/final_project_data_investigation.ipynb\" target=\"_parent\"><img src=\"https://colab.research.google.com/assets/colab-badge.svg\" alt=\"Open In Colab\"/></a>"
      ]
    },
    {
      "cell_type": "code",
      "source": [
        "import numpy as np\n",
        "import pandas as pd\n",
        "import matplotlib.pyplot as plt\n",
        "import seaborn as sns\n",
        "import pickle\n",
        "import zipfile\n",
        "import time\n",
        "import csv\n",
        "import sys\n",
        "import os\n",
        "!pip install tensorflow_addons -q\n",
        "import tensorflow_addons as tfa\n",
        "import re\n",
        "from sklearn.model_selection import RandomizedSearchCV\n",
        "from sklearn.ensemble import *\n",
        "from sklearn.model_selection import train_test_split, StratifiedKFold\n",
        "from sklearn.metrics import mean_absolute_percentage_error\n",
        "\n",
        "import PIL\n",
        "from PIL import ImageOps, ImageFilter\n",
        "#увеличим дефолтный размер графиков\n",
        "from pylab import rcParams\n",
        "rcParams['figure.figsize'] = 10, 5\n",
        "#графики в svg выглядят более четкими\n",
        "%config InlineBackend.figure_format = 'svg'\n",
        "%matplotlib inline\n",
        "\n",
        "#print(os.listdir(\"/content/drive/MyDrive/Colab Notebooks/input\"))\n"
      ],
      "metadata": {
        "id": "elk1vwU2mab2"
      },
      "execution_count": 195,
      "outputs": []
    },
    {
      "cell_type": "code",
      "source": [
        "RANDOM_SEED = 42\n",
        "VAL_SPLIT= 0.20 \n",
        "mape=mean_absolute_percentage_error"
      ],
      "metadata": {
        "id": "SNl-IT-uxwpq"
      },
      "execution_count": 196,
      "outputs": []
    },
    {
      "cell_type": "code",
      "source": [
        "zip_file='/content/drive/MyDrive/data.csv.zip'\n",
        "z=zipfile.ZipFile(zip_file, 'r')\n",
        "z.extractall()\n",
        "print(os.listdir())"
      ],
      "metadata": {
        "colab": {
          "base_uri": "https://localhost:8080/"
        },
        "id": "R8N83RVXmf5T",
        "outputId": "7b5b1d9d-8634-4eae-8e39-fd98ebdb280f"
      },
      "execution_count": 197,
      "outputs": [
        {
          "output_type": "stream",
          "name": "stdout",
          "text": [
            "['.config', 'drive', 'data.csv', '__MACOSX', 'sample_data']\n"
          ]
        }
      ]
    },
    {
      "cell_type": "code",
      "source": [
        "data=pd.read_csv('data.csv')"
      ],
      "metadata": {
        "id": "iZ0Ynzpo1aUk"
      },
      "execution_count": 198,
      "outputs": []
    },
    {
      "cell_type": "code",
      "source": [
        "data.info()"
      ],
      "metadata": {
        "colab": {
          "base_uri": "https://localhost:8080/"
        },
        "id": "2DL0IICQ1rsO",
        "outputId": "10472fc1-ed35-48a9-e9a4-163eedb6abca"
      },
      "execution_count": 199,
      "outputs": [
        {
          "output_type": "stream",
          "name": "stdout",
          "text": [
            "<class 'pandas.core.frame.DataFrame'>\n",
            "RangeIndex: 377185 entries, 0 to 377184\n",
            "Data columns (total 18 columns):\n",
            " #   Column        Non-Null Count   Dtype \n",
            "---  ------        --------------   ----- \n",
            " 0   status        337267 non-null  object\n",
            " 1   private pool  4181 non-null    object\n",
            " 2   propertyType  342452 non-null  object\n",
            " 3   street        377183 non-null  object\n",
            " 4   baths         270847 non-null  object\n",
            " 5   homeFacts     377185 non-null  object\n",
            " 6   fireplace     103115 non-null  object\n",
            " 7   city          377151 non-null  object\n",
            " 8   schools       377185 non-null  object\n",
            " 9   sqft          336608 non-null  object\n",
            " 10  zipcode       377185 non-null  object\n",
            " 11  beds          285903 non-null  object\n",
            " 12  state         377185 non-null  object\n",
            " 13  stories       226470 non-null  object\n",
            " 14  mls-id        24942 non-null   object\n",
            " 15  PrivatePool   40311 non-null   object\n",
            " 16  MlsId         310305 non-null  object\n",
            " 17  target        374704 non-null  object\n",
            "dtypes: object(18)\n",
            "memory usage: 51.8+ MB\n"
          ]
        }
      ]
    },
    {
      "cell_type": "code",
      "source": [
        "data.nunique()"
      ],
      "metadata": {
        "colab": {
          "base_uri": "https://localhost:8080/"
        },
        "id": "P9SK2fBZMkZs",
        "outputId": "f2411750-464a-48d0-ac8a-2be10df9de77"
      },
      "execution_count": 200,
      "outputs": [
        {
          "output_type": "execute_result",
          "data": {
            "text/plain": [
              "status             159\n",
              "private pool         1\n",
              "propertyType      1280\n",
              "street          337076\n",
              "baths              229\n",
              "homeFacts       321009\n",
              "fireplace         1653\n",
              "city              2026\n",
              "schools         297365\n",
              "sqft             25405\n",
              "zipcode           4549\n",
              "beds              1184\n",
              "state               39\n",
              "stories            348\n",
              "mls-id           24907\n",
              "PrivatePool          2\n",
              "MlsId           232944\n",
              "target           43939\n",
              "dtype: int64"
            ]
          },
          "metadata": {},
          "execution_count": 200
        }
      ]
    },
    {
      "cell_type": "code",
      "source": [
        "data.isna().sum()"
      ],
      "metadata": {
        "colab": {
          "base_uri": "https://localhost:8080/"
        },
        "id": "vZ3Z5DI7M2gj",
        "outputId": "90931128-87c9-4aa5-88e0-5c8f25c34bad"
      },
      "execution_count": 201,
      "outputs": [
        {
          "output_type": "execute_result",
          "data": {
            "text/plain": [
              "status           39918\n",
              "private pool    373004\n",
              "propertyType     34733\n",
              "street               2\n",
              "baths           106338\n",
              "homeFacts            0\n",
              "fireplace       274070\n",
              "city                34\n",
              "schools              0\n",
              "sqft             40577\n",
              "zipcode              0\n",
              "beds             91282\n",
              "state                0\n",
              "stories         150715\n",
              "mls-id          352243\n",
              "PrivatePool     336874\n",
              "MlsId            66880\n",
              "target            2481\n",
              "dtype: int64"
            ]
          },
          "metadata": {},
          "execution_count": 201
        }
      ]
    },
    {
      "cell_type": "markdown",
      "source": [
        "# target"
      ],
      "metadata": {
        "id": "2T7ET0UlC_4P"
      }
    },
    {
      "cell_type": "code",
      "source": [
        "data.target.value_counts()"
      ],
      "metadata": {
        "colab": {
          "base_uri": "https://localhost:8080/"
        },
        "id": "nL0dngE679xa",
        "outputId": "7ede0cf7-3f8e-4638-e6f3-65bc13812007"
      },
      "execution_count": 202,
      "outputs": [
        {
          "output_type": "execute_result",
          "data": {
            "text/plain": [
              "$225,000     1462\n",
              "$275,000     1355\n",
              "$250,000     1312\n",
              "$350,000     1296\n",
              "$299,900     1276\n",
              "             ... \n",
              "$390,359        1\n",
              "$458,900+       1\n",
              "274,359         1\n",
              "$273,490+       1\n",
              "$171,306        1\n",
              "Name: target, Length: 43939, dtype: int64"
            ]
          },
          "metadata": {},
          "execution_count": 202
        }
      ]
    },
    {
      "cell_type": "code",
      "source": [
        "data['new_target'] = data['target'].str.replace('+', '')"
      ],
      "metadata": {
        "colab": {
          "base_uri": "https://localhost:8080/"
        },
        "id": "FCQ9ydfhvg5H",
        "outputId": "9db45d08-cfce-46bc-eba6-0b3a19a41285"
      },
      "execution_count": 203,
      "outputs": [
        {
          "output_type": "stream",
          "name": "stderr",
          "text": [
            "/usr/local/lib/python3.7/dist-packages/ipykernel_launcher.py:1: FutureWarning: The default value of regex will change from True to False in a future version. In addition, single character regular expressions will *not* be treated as literal strings when regex=True.\n",
            "  \"\"\"Entry point for launching an IPython kernel.\n"
          ]
        }
      ]
    },
    {
      "cell_type": "code",
      "source": [
        "data['new_target'] = data['new_target'].str.replace('$', '')"
      ],
      "metadata": {
        "colab": {
          "base_uri": "https://localhost:8080/"
        },
        "id": "SWeCeMYRTY01",
        "outputId": "f7f87a5f-1619-439d-d5b7-e97a42dc0fd4"
      },
      "execution_count": 204,
      "outputs": [
        {
          "output_type": "stream",
          "name": "stderr",
          "text": [
            "/usr/local/lib/python3.7/dist-packages/ipykernel_launcher.py:1: FutureWarning: The default value of regex will change from True to False in a future version. In addition, single character regular expressions will *not* be treated as literal strings when regex=True.\n",
            "  \"\"\"Entry point for launching an IPython kernel.\n"
          ]
        }
      ]
    },
    {
      "cell_type": "code",
      "source": [
        "data['new_target'] = data['new_target'].str.replace(',', '')"
      ],
      "metadata": {
        "id": "LCv3RpWOkmVW"
      },
      "execution_count": 205,
      "outputs": []
    },
    {
      "cell_type": "code",
      "source": [
        "data['new_target']=pd.to_numeric(data['new_target'], downcast='integer', errors='coerce')"
      ],
      "metadata": {
        "id": "xTqmYrj2ksLi"
      },
      "execution_count": 206,
      "outputs": []
    },
    {
      "cell_type": "code",
      "source": [
        "data['new_target'].value_counts()"
      ],
      "metadata": {
        "colab": {
          "base_uri": "https://localhost:8080/"
        },
        "id": "DygfevqXTcV1",
        "outputId": "c4330d6c-b9b4-40e6-d8ec-76888479f337"
      },
      "execution_count": 207,
      "outputs": [
        {
          "output_type": "execute_result",
          "data": {
            "text/plain": [
              "225000.0    1806\n",
              "275000.0    1650\n",
              "250000.0    1644\n",
              "350000.0    1641\n",
              "325000.0    1562\n",
              "            ... \n",
              "218111.0       1\n",
              "136466.0       1\n",
              "236070.0       1\n",
              "752911.0       1\n",
              "171306.0       1\n",
              "Name: new_target, Length: 34184, dtype: int64"
            ]
          },
          "metadata": {},
          "execution_count": 207
        }
      ]
    },
    {
      "cell_type": "code",
      "source": [
        "data.drop(['target',], axis=1, inplace=True)"
      ],
      "metadata": {
        "id": "NkbEvi_SbmK4"
      },
      "execution_count": 208,
      "outputs": []
    },
    {
      "cell_type": "code",
      "source": [
        "data.dropna(subset=['new_target'], inplace=True)"
      ],
      "metadata": {
        "id": "LHleBGfncnKJ"
      },
      "execution_count": 209,
      "outputs": []
    },
    {
      "cell_type": "code",
      "source": [
        "data['new_target'].describe()"
      ],
      "metadata": {
        "colab": {
          "base_uri": "https://localhost:8080/"
        },
        "id": "efoM6ZqteiQE",
        "outputId": "accdb986-36ee-411d-bff1-104254bd2daa"
      },
      "execution_count": 210,
      "outputs": [
        {
          "output_type": "execute_result",
          "data": {
            "text/plain": [
              "count    3.743060e+05\n",
              "mean     6.454072e+05\n",
              "std      1.842196e+06\n",
              "min      1.000000e+00\n",
              "25%      1.877965e+05\n",
              "50%      3.200000e+05\n",
              "75%      5.845000e+05\n",
              "max      1.950000e+08\n",
              "Name: new_target, dtype: float64"
            ]
          },
          "metadata": {},
          "execution_count": 210
        }
      ]
    },
    {
      "cell_type": "code",
      "source": [
        "#! pip install https://github.com/pandas-profiling/pandas-profiling/archive/master.zip "
      ],
      "metadata": {
        "id": "g3qQ7O5KAmcP"
      },
      "execution_count": 211,
      "outputs": []
    },
    {
      "cell_type": "code",
      "source": [
        "#import numpy as np\n",
        "#import pandas as pd\n",
        "#from pandas_profiling import ProfileReport"
      ],
      "metadata": {
        "id": "WDYBm95FFX01"
      },
      "execution_count": 212,
      "outputs": []
    },
    {
      "cell_type": "code",
      "source": [
        "#profile = ProfileReport(data, title='data_report', html={'style':{'full_width':True}})"
      ],
      "metadata": {
        "id": "Awr05w9nF3wq"
      },
      "execution_count": 213,
      "outputs": []
    },
    {
      "cell_type": "code",
      "source": [
        "#profile.to_notebook_iframe()"
      ],
      "metadata": {
        "id": "ZqnP1mHbGIlq"
      },
      "execution_count": 214,
      "outputs": []
    },
    {
      "cell_type": "code",
      "source": [
        "#profile.to_file(output_file=\"data_report.html\")"
      ],
      "metadata": {
        "id": "pWbezG3gG61t"
      },
      "execution_count": 215,
      "outputs": []
    },
    {
      "cell_type": "markdown",
      "source": [
        "# status"
      ],
      "metadata": {
        "id": "v_L48mTCBrTJ"
      }
    },
    {
      "cell_type": "code",
      "source": [
        "data.status.value_counts()"
      ],
      "metadata": {
        "colab": {
          "base_uri": "https://localhost:8080/"
        },
        "id": "A7k6pV9Z9HB5",
        "outputId": "2d1ce824-82ba-4b9e-bce1-8aaa24cc5f74"
      },
      "execution_count": 216,
      "outputs": [
        {
          "output_type": "execute_result",
          "data": {
            "text/plain": [
              "for sale                   156100\n",
              "Active                     105206\n",
              "For sale                    43465\n",
              "foreclosure                  5677\n",
              "New construction             5459\n",
              "                            ...  \n",
              "Coming soon: Nov 8.             1\n",
              "Coming soon: Oct 29.            1\n",
              "Coming soon: Dec 15.            1\n",
              "Pending W/Backup Wanted         1\n",
              "Coming soon: Dec 23.            1\n",
              "Name: status, Length: 155, dtype: int64"
            ]
          },
          "metadata": {},
          "execution_count": 216
        }
      ]
    },
    {
      "cell_type": "code",
      "source": [
        "data.status.unique()"
      ],
      "metadata": {
        "colab": {
          "base_uri": "https://localhost:8080/"
        },
        "id": "uTigmEAsxF6v",
        "outputId": "925aa8a3-7c78-4c65-c7e1-eeb8d6f03036"
      },
      "execution_count": 217,
      "outputs": [
        {
          "output_type": "execute_result",
          "data": {
            "text/plain": [
              "array(['Active', 'for sale', nan, 'New construction', 'New', 'For sale',\n",
              "       'Pending', 'P', 'Active/Contingent', ' / auction',\n",
              "       'Under Contract', 'Pre-foreclosure / auction',\n",
              "       'Under Contract   Showing', 'Pre-foreclosure',\n",
              "       'Under Contract Backups', 'Active Under Contract', 'foreclosure',\n",
              "       'Foreclosed', 'Option Pending', 'Under Contract Show', 'Auction',\n",
              "       'A Active', 'Contingent', 'Pending   Continue To Show',\n",
              "       'Price Change', 'Back on Market', 'Active Option', 'Foreclosure',\n",
              "       'Coming soon: Nov 21.', 'Contingent Finance And Inspection',\n",
              "       'Coming soon: Dec 4.', 'P Pending Sale', 'Coming soon: Nov 23.',\n",
              "       'Active With Contingencies', 'Pending Ab', 'Pf', 'Contingent Show',\n",
              "       'Contract P', 'Contingent Take Backup', 'Apartment for rent',\n",
              "       'Backup Contract', 'Option Contract', 'Pending Continue To Show',\n",
              "       'pending', 'Pending Inspection', 'Active Option Contract', 'C',\n",
              "       'Auction - Active', 'Contingent   Show', 'Pi',\n",
              "       'Due Diligence Period', 'Contract Contingent On Buyer Sale',\n",
              "       'U Under Contract', 'Coming soon: Nov 29.', 'Coming soon: Dec 2.',\n",
              "       'Active Contingency', 'Pending With Contingencies',\n",
              "       'Lease/Purchase Pending', 'Pending Bring Backup',\n",
              "       'C Continue Show', 'Pending Taking Backups',\n",
              "       'Offer Pending Signature', 'Under Contract - Show',\n",
              "       'Contingent Lien Holder Release', 'Active - Auction',\n",
              "       'Active With Offer', 'Coming soon: Nov 30.', 'Listing Extended',\n",
              "       'Pending, Continue to Show', 'For Sale', 'Contingency Contract',\n",
              "       'Coming soon: Dec 10.', 'Contingent Escape',\n",
              "       'Pending - Taking Backups', 'Coming soon: Dec 24.',\n",
              "       'Active Backup', 'Coming soon: Nov 14.', 'Coming soon: Nov 22.',\n",
              "       'Coming soon: Oct 21.', 'Under contract', 'Coming soon: Dec 14.',\n",
              "       'Coming soon: Oct 24.', 'Condo for rent', 'Active Contingent',\n",
              "       'Coming soon: Dec 18.', 'Pending Offer Approval', 'Pending In',\n",
              "       'Coming soon: Dec 16.', 'Ct', 'Pending W/Insp Finance',\n",
              "       'Coming soon: Dec 3.', 'Coming soon: Dec 25.',\n",
              "       'Coming soon: Nov 11.', 'Coming soon: Nov 28.',\n",
              "       'Contingent Finance and Inspection', 'Temporary Active',\n",
              "       'CT Insp - Inspection Contingency', 'Coming soon: Nov 17.',\n",
              "       'Pending (Do Not Show)', 'Contingency 48 Hr (+/ )',\n",
              "       'Pending   Continue To Show   Financing', 'Pending W/ Cont.',\n",
              "       'Coming soon: Dec 6.', 'Back On Market', 'Coming soon: Nov 27.',\n",
              "       'Pending W/Escape Clause', 'Coming soon: Nov 26.',\n",
              "       'Pending - Continue to Show', 'Closed', 'Under Contract - No Show',\n",
              "       'Contract', 'Coming soon: Dec 7.', 'Coming soon: Dec 27.',\n",
              "       'Coming soon: Dec 11.', 'Coming soon: Dec 5.',\n",
              "       'Coming soon: Nov 13.', 'Contingent   Release', 'Accepted Offer',\n",
              "       'Conditional Contract', 'Active - Contingent',\n",
              "       'Active with Contract', 'Coming soon: Nov 19.',\n",
              "       'Coming soon: Nov 8.', 'Coming soon: Oct 29.',\n",
              "       'Coming soon: Dec 15.', 'Pending W/Backup Wanted',\n",
              "       'Pending Backups Wanted', 'Pending Fe', 'Coming soon: Oct 30.',\n",
              "       'Contingent   No Show', 'Coming soon: Dec 9.', 'Pending Sale',\n",
              "       'Accepting backups', 'Coming soon: Dec 20.',\n",
              "       'Pending Take Backups', 'Contingent   Foreclosure',\n",
              "       'Conting Accpt Backups', 'Lease/Purchase', 'Coming soon: Dec 13.',\n",
              "       'Contingent - Sale of Home', 'Ps', 'Under Contract W/ Bckp',\n",
              "       'Re Activated', 'Pending - Backup Offer Requested',\n",
              "       'Coming soon: Dec 12.', 'Reactivated', 'Uc Continue To Show',\n",
              "       'Contingent - Financing', 'Coming soon: Nov 5.',\n",
              "       'Coming soon: Nov 12.', 'Coming soon: Dec 1.', 'Pending Sh',\n",
              "       'Coming soon: Nov 25.', 'Under Contract Taking Back Up Offers',\n",
              "       'Backup', 'Coming soon: Dec 23.'], dtype=object)"
            ]
          },
          "metadata": {},
          "execution_count": 217
        }
      ]
    },
    {
      "cell_type": "code",
      "source": [
        "data['status'] = data.status.astype(str)\n",
        "data['status'] = data.status.apply(lambda x: x.split(' ')[0].lower())"
      ],
      "metadata": {
        "id": "XMXY5iqne_kJ"
      },
      "execution_count": 218,
      "outputs": []
    },
    {
      "cell_type": "code",
      "source": [
        "data.status.unique()"
      ],
      "metadata": {
        "colab": {
          "base_uri": "https://localhost:8080/"
        },
        "id": "t-7ZDWGifL1W",
        "outputId": "7454a51b-d6a7-45cd-e1dc-64ede6f543c3"
      },
      "execution_count": 219,
      "outputs": [
        {
          "output_type": "execute_result",
          "data": {
            "text/plain": [
              "array(['active', 'for', 'nan', 'new', 'pending', 'p', 'active/contingent',\n",
              "       '', 'under', 'pre-foreclosure', 'foreclosure', 'foreclosed',\n",
              "       'option', 'auction', 'a', 'contingent', 'price', 'back', 'coming',\n",
              "       'pf', 'contract', 'apartment', 'backup', 'c', 'pi', 'due', 'u',\n",
              "       'lease/purchase', 'offer', 'listing', 'pending,', 'contingency',\n",
              "       'condo', 'ct', 'temporary', 'closed', 'accepted', 'conditional',\n",
              "       'accepting', 'conting', 'ps', 're', 'reactivated', 'uc'],\n",
              "      dtype=object)"
            ]
          },
          "metadata": {},
          "execution_count": 219
        }
      ]
    },
    {
      "cell_type": "code",
      "source": [
        "def transform_status(\n",
        "    value: str\n",
        "):  \n",
        "    if isinstance(value, str):\n",
        "        if  value in ['for']:\n",
        "            return 'for sale'\n",
        "        if  value in ['nan', '']:\n",
        "            return 'not known'\n",
        "        if  value in ['a', 'active/contingent']:\n",
        "            return 'active'\n",
        "        if  value in ['price']:\n",
        "            return 'price change'\n",
        "        if  value in ['back', 'backup']:\n",
        "            return 'back on market'\n",
        "        if  value in ['coming', 'c']:\n",
        "            return 'coming soon'\n",
        "        if value in ['p', 'pi', 'ps']:\n",
        "            return 'pending'\n",
        "        if value in ['u', 'uc']:\n",
        "            return 'under'\n",
        "        if value in ['re']:\n",
        "            return 'reactivated'\n",
        "        if value in ['ct']:\n",
        "            return 'contract'\n",
        "        if value in ['pre-foreclosure', 'foreclosure', 'foreclosed']:\n",
        "            return 'foreclosure'\n",
        "        if value in ['accepting', 'accepted']:\n",
        "            return 'accepted'\n",
        "        if value in ['contingency', 'conting']:\n",
        "            return 'contingency'\n",
        "        if value in ['condo', 'conditional']:\n",
        "            return 'conditional'\n",
        "\n",
        "    return value\n",
        "data.status=data.status.apply(transform_status)"
      ],
      "metadata": {
        "id": "PS6FmMWixmt_"
      },
      "execution_count": 220,
      "outputs": []
    },
    {
      "cell_type": "code",
      "source": [
        "data.status.unique()"
      ],
      "metadata": {
        "colab": {
          "base_uri": "https://localhost:8080/"
        },
        "id": "EEA982A1ooJe",
        "outputId": "c92796ae-1676-441d-af30-2fe424317440"
      },
      "execution_count": 221,
      "outputs": [
        {
          "output_type": "execute_result",
          "data": {
            "text/plain": [
              "array(['active', 'for sale', 'not known', 'new', 'pending', 'under',\n",
              "       'foreclosure', 'option', 'auction', 'contingent', 'price change',\n",
              "       'back on market', 'coming soon', 'pf', 'contract', 'apartment',\n",
              "       'due', 'lease/purchase', 'offer', 'listing', 'pending,',\n",
              "       'contingency', 'conditional', 'temporary', 'closed', 'accepted',\n",
              "       'reactivated'], dtype=object)"
            ]
          },
          "metadata": {},
          "execution_count": 221
        }
      ]
    },
    {
      "cell_type": "code",
      "source": [
        "data['status'].describe()"
      ],
      "metadata": {
        "colab": {
          "base_uri": "https://localhost:8080/"
        },
        "id": "fTOwwYh7wOsF",
        "outputId": "06b635a5-e5bb-4208-f4e8-1c3baddb2369"
      },
      "execution_count": 222,
      "outputs": [
        {
          "output_type": "execute_result",
          "data": {
            "text/plain": [
              "count       374306\n",
              "unique          27\n",
              "top       for sale\n",
              "freq        199567\n",
              "Name: status, dtype: object"
            ]
          },
          "metadata": {},
          "execution_count": 222
        }
      ]
    },
    {
      "cell_type": "markdown",
      "source": [
        "# private pool"
      ],
      "metadata": {
        "id": "kbNZbm5rBw3A"
      }
    },
    {
      "cell_type": "code",
      "source": [
        "data['private pool'].value_counts()"
      ],
      "metadata": {
        "colab": {
          "base_uri": "https://localhost:8080/"
        },
        "id": "5eT2cszn7wix",
        "outputId": "86ccae8b-ba11-486a-a8a0-798a1c622700"
      },
      "execution_count": 223,
      "outputs": [
        {
          "output_type": "execute_result",
          "data": {
            "text/plain": [
              "Yes    4151\n",
              "Name: private pool, dtype: int64"
            ]
          },
          "metadata": {},
          "execution_count": 223
        }
      ]
    },
    {
      "cell_type": "code",
      "source": [
        "data.drop(['private pool',], axis=1, inplace=True)"
      ],
      "metadata": {
        "id": "8DZ_QhwWDacD"
      },
      "execution_count": 224,
      "outputs": []
    },
    {
      "cell_type": "markdown",
      "source": [
        "# propertyType"
      ],
      "metadata": {
        "id": "WyjRShaXB1Wq"
      }
    },
    {
      "cell_type": "code",
      "source": [
        "data['propertyType'].value_counts()"
      ],
      "metadata": {
        "colab": {
          "base_uri": "https://localhost:8080/"
        },
        "id": "mOIW9YDx77N-",
        "outputId": "ef1401f2-c3ee-487c-d721-93edbc5e90b4"
      },
      "execution_count": 225,
      "outputs": [
        {
          "output_type": "execute_result",
          "data": {
            "text/plain": [
              "single-family home                                             91159\n",
              "Single Family                                                  61888\n",
              "Single Family Home                                             31725\n",
              "condo                                                          25878\n",
              "lot/land                                                       20532\n",
              "                                                               ...  \n",
              "1 Story, Contemporary, Other (See Remarks)                         1\n",
              "Custom, Elevated, Other                                            1\n",
              "Contemporary, Farmhouse                                            1\n",
              "2 Stories, Traditional, Mediterranean, Texas Hill Country          1\n",
              "Bilevel, Converted Dwelling, Loft with Bedrooms, Condo/Unit        1\n",
              "Name: propertyType, Length: 1279, dtype: int64"
            ]
          },
          "metadata": {},
          "execution_count": 225
        }
      ]
    },
    {
      "cell_type": "code",
      "source": [
        "data['propertyType'].unique()"
      ],
      "metadata": {
        "colab": {
          "base_uri": "https://localhost:8080/"
        },
        "id": "yq1zRZwIEoNx",
        "outputId": "96c6d6dc-76dd-4f96-fd77-e24d7f45f60f"
      },
      "execution_count": 226,
      "outputs": [
        {
          "output_type": "execute_result",
          "data": {
            "text/plain": [
              "array(['Single Family Home', 'single-family home', 'lot/land', ...,\n",
              "       'Cabin/Lodge, Contemporary, Converted Barn, Cottage, Loft with Bedrooms, Log Home, Post & Beam',\n",
              "       'Lake House, Single Detached, Tudor',\n",
              "       'Bilevel, Converted Dwelling, Loft with Bedrooms, Condo/Unit'],\n",
              "      dtype=object)"
            ]
          },
          "metadata": {},
          "execution_count": 226
        }
      ]
    },
    {
      "cell_type": "code",
      "source": [
        "data['propertyType'] = data['propertyType'].astype(str)\n",
        "data['propertyType'] = data['propertyType'].apply(lambda x: x.split(' ')[0].lower().replace(',', ''))"
      ],
      "metadata": {
        "id": "ej1ZXGahE6rC"
      },
      "execution_count": 227,
      "outputs": []
    },
    {
      "cell_type": "code",
      "source": [
        "data['propertyType'].unique()\n",
        "#требуется более точечная ифна с этим сериес,чем просто обрезка данных, тут и данные о стиле интерьера, и данные о колве комнат"
      ],
      "metadata": {
        "colab": {
          "base_uri": "https://localhost:8080/"
        },
        "id": "LSPRUbdBFKB1",
        "outputId": "b6762225-3127-459d-885b-9974217dcdc2"
      },
      "execution_count": 228,
      "outputs": [
        {
          "output_type": "execute_result",
          "data": {
            "text/plain": [
              "array(['single', 'single-family', 'lot/land', 'townhouse', 'florida',\n",
              "       'nan', 'coop', 'english', '2', 'multi-family', 'penthouse',\n",
              "       'condo', 'land', 'condo/townhome/row', '', 'detached', '1',\n",
              "       'other', 'colonial', 'transitional', 'high', 'mobile/manufactured',\n",
              "       'tri-level', 'craftsman', 'federal', 'multi', 'traditional',\n",
              "       'custom', 'cooperative', 'contemporary/modern', 'cape', 'mobile',\n",
              "       'miscellaneous', 'mfd/mobile', 'bungalow', 'spanish/mediterranean',\n",
              "       'contemporary', 'multi-level', 'condo/unit', 'ranch', 'low-rise',\n",
              "       'rancher', 'urban', 'two', 'garden', 'farms/ranches', 'a-frame',\n",
              "       'attached', 'one', 'georgian', 'dwelling', 'victorian',\n",
              "       'apartment', 'cluster', 'manufactured', 'condominium',\n",
              "       'condo/townhome', 'hi', 'mediterranean', 'cabin', 'bermuda',\n",
              "       'split', 'farm', 'split-level', 'singlefamilyresidence', 'log',\n",
              "       'bilevel', 'mountain', 'commercial/industrial', 'cottage',\n",
              "       'high-rise', 'mid-rise', 'tudor/provincial', 'straight',\n",
              "       'houseboat', 'mid-century', 'french', 'garden/zero', 'charleston',\n",
              "       '4+', 'farm/ranch', 'split-entry', 'co-op', 'residential',\n",
              "       'unknown', '3', 'courtyard', 'resort', 'elevated', 'multiple',\n",
              "       'tudor', 'designated', '3+', 'quad', 'arts', 'multiplex',\n",
              "       'fourplex', 'spanish', 'historical/conservation', 'camp', 'santa',\n",
              "       'duplex', 'european', 'key', 'bi-level', 'art', 'coach/carriage',\n",
              "       'loft/balcony', 'farmhouse', 'less', 'carriage', '5-9', 'texas',\n",
              "       'lake', 'hi-rise', 'dutch', 'loft', 'raised', 'country',\n",
              "       'territorial/santa', 'modernist', 'stilt', 'coastal', 'end',\n",
              "       'historical', 'cabin/lodge', 'beaux', 'farmhouse/national',\n",
              "       'trinity', '4-plex', 'conventional', 'old', 'historic/older',\n",
              "       'store', 'side-by-side', 'triplex', 'tuscan', 'chalet', '10+',\n",
              "       'gambrel', 'modern', 'step', 'rustic', 'patio', 'studio',\n",
              "       '2-story', 'townhome', 'yes', 'new', 'back-to-back', 'airlite',\n",
              "       'architectural', 'low', 'flat', 'american', 'denver', 'antique',\n",
              "       '30x40', 'post', 'manuf/mobile', 'guest', 'southern', '2.5',\n",
              "       'historic', 'double-wide', 'modular/prefab', 'hill', 'mid',\n",
              "       'expanded', 'townhouse-interior', 'mid-level', 'garage',\n",
              "       'single-wide', 'villa', 'manor', 'victorian/federal', 'forest',\n",
              "       'walk-out', 'townhouse-end', 'queen', 'ground', 'conversion',\n",
              "       'fairway', 'moorage', 'warehouse', 'prairie', 'cottage/camp'],\n",
              "      dtype=object)"
            ]
          },
          "metadata": {},
          "execution_count": 228
        }
      ]
    },
    {
      "cell_type": "code",
      "source": [
        "def transform_status(\n",
        "    value: str\n",
        "):  \n",
        "    if isinstance(value, str):\n",
        "        if  value in ['nan', '']:\n",
        "            return 'not known'\n",
        "        if  value in ['1']:\n",
        "            return 'one'\n",
        "        if  value in ['2', '2.5', '2-story']:\n",
        "            return 'two'\n",
        "        if  value in ['3']:\n",
        "            return 'back on market'\n",
        "        if  value in ['coming', 'c']:\n",
        "            return 'coming soon'\n",
        "        if value in ['p', 'pi', 'ps']:\n",
        "            return 'pending'\n",
        "        if value in ['u', 'uc']:\n",
        "            return 'under'\n",
        "        if value in ['re']:\n",
        "            return 'reactivated'\n",
        "        if value in ['ct']:\n",
        "            return 'contract'\n",
        "        if value in ['pre-foreclosure', 'foreclosure', 'foreclosed']:\n",
        "            return 'foreclosure'\n",
        "        if value in ['accepting', 'accepted']:\n",
        "            return 'accepted'\n",
        "        if value in ['contingency', 'conting']:\n",
        "            return 'contingency'\n",
        "        if value in ['condo', 'conditional']:\n",
        "            return 'conditional'\n",
        "\n",
        "    return value\n",
        "data.status=data.status.apply(transform_status)"
      ],
      "metadata": {
        "id": "mDZWjH2uLFSc"
      },
      "execution_count": 229,
      "outputs": []
    },
    {
      "cell_type": "code",
      "source": [
        "data.isna().sum()"
      ],
      "metadata": {
        "colab": {
          "base_uri": "https://localhost:8080/"
        },
        "id": "R3__1KJnEHPx",
        "outputId": "ab4a7381-c012-4ec4-9a45-1ae75eddb744"
      },
      "execution_count": 230,
      "outputs": [
        {
          "output_type": "execute_result",
          "data": {
            "text/plain": [
              "status               0\n",
              "propertyType         0\n",
              "street               2\n",
              "baths           105288\n",
              "homeFacts            0\n",
              "fireplace       271878\n",
              "city                34\n",
              "schools              0\n",
              "sqft             40111\n",
              "zipcode              0\n",
              "beds             90909\n",
              "state                0\n",
              "stories         149396\n",
              "mls-id          349369\n",
              "PrivatePool     334280\n",
              "MlsId            64337\n",
              "new_target           0\n",
              "dtype: int64"
            ]
          },
          "metadata": {},
          "execution_count": 230
        }
      ]
    },
    {
      "cell_type": "markdown",
      "source": [
        "# sreet"
      ],
      "metadata": {
        "id": "tKw7eaBBB5Yj"
      }
    },
    {
      "cell_type": "code",
      "source": [
        "data.street.value_counts()"
      ],
      "metadata": {
        "colab": {
          "base_uri": "https://localhost:8080/"
        },
        "id": "J4ujChz977X2",
        "outputId": "81787ea8-b20e-49c2-d2fd-ba95d5f3e7eb"
      },
      "execution_count": 231,
      "outputs": [
        {
          "output_type": "execute_result",
          "data": {
            "text/plain": [
              "Address Not Disclosed               672\n",
              "Undisclosed Address                 516\n",
              "(undisclosed Address)               391\n",
              "Address Not Available               175\n",
              "Unknown Address                      72\n",
              "                                   ... \n",
              "Lynmar Plan in Rough Hollow           1\n",
              "MLS #: CORC5922640                    1\n",
              "7784 Rosedale St                      1\n",
              "Buildable plan: Residence 2 Plan      1\n",
              "5983 Midcrown Dr                      1\n",
              "Name: street, Length: 334447, dtype: int64"
            ]
          },
          "metadata": {},
          "execution_count": 231
        }
      ]
    },
    {
      "cell_type": "code",
      "source": [
        "data['street']=data['street'].fillna(value='not known')"
      ],
      "metadata": {
        "id": "L5H3j4TWkbaT"
      },
      "execution_count": 232,
      "outputs": []
    },
    {
      "cell_type": "markdown",
      "source": [
        "# baths"
      ],
      "metadata": {
        "id": "mLkd3HZfB-pH"
      }
    },
    {
      "cell_type": "code",
      "source": [
        "data.baths.value_counts()"
      ],
      "metadata": {
        "colab": {
          "base_uri": "https://localhost:8080/"
        },
        "id": "-C9iNGNy77l4",
        "outputId": "f02f3b89-1b15-4f9f-dc31-36fc622c57f5"
      },
      "execution_count": 233,
      "outputs": [
        {
          "output_type": "execute_result",
          "data": {
            "text/plain": [
              "2 Baths          51953\n",
              "3 Baths          35356\n",
              "2                20429\n",
              "2.0              16355\n",
              "4 Baths          14712\n",
              "                 ...  \n",
              "32                   1\n",
              "5.25 Baths           1\n",
              "41.0                 1\n",
              "Bathrooms: 21        1\n",
              "44.0                 1\n",
              "Name: baths, Length: 225, dtype: int64"
            ]
          },
          "metadata": {},
          "execution_count": 233
        }
      ]
    },
    {
      "cell_type": "code",
      "source": [
        "data['baths']=pd.to_numeric(data['baths'],  errors='coerce')"
      ],
      "metadata": {
        "id": "n-9o3J7pZl4r"
      },
      "execution_count": 234,
      "outputs": []
    },
    {
      "cell_type": "code",
      "source": [
        "data['baths'].unique()"
      ],
      "metadata": {
        "colab": {
          "base_uri": "https://localhost:8080/"
        },
        "id": "IX5P4YomZtqH",
        "outputId": "da8a615a-9d7a-45d3-fc9b-5a6279574f03"
      },
      "execution_count": 235,
      "outputs": [
        {
          "output_type": "execute_result",
          "data": {
            "text/plain": [
              "array([  3.5,   nan,   2. ,   3. ,   4. ,   1. ,   4.5,   5. ,   1.5,\n",
              "         2.5,   8. ,   0. ,   7. ,   6. ,   5.5, 750. ,  10. ,  18. ,\n",
              "         9. ,  12. ,   6.5,  14. ,  17. ,  16. ,   7.5,  11. ,  22. ,\n",
              "        13. ,  32. ,  26. ,   9.5,   8.5,  35. ,  40. ,  29. ,  15. ,\n",
              "        21. ,  20. ,  55. ,  41. ,  10.5,  27. ,  12.5,  24. ,  23. ,\n",
              "        34. ,  64. ,  30. ,  44. ])"
            ]
          },
          "metadata": {},
          "execution_count": 235
        }
      ]
    },
    {
      "cell_type": "code",
      "source": [
        "data['baths'].describe()"
      ],
      "metadata": {
        "colab": {
          "base_uri": "https://localhost:8080/"
        },
        "id": "Nsil5d6SaAO3",
        "outputId": "d6289385-3967-4c4e-949e-0aec97bc6f33"
      },
      "execution_count": 236,
      "outputs": [
        {
          "output_type": "execute_result",
          "data": {
            "text/plain": [
              "count    102741.000000\n",
              "mean          4.249978\n",
              "std          35.889117\n",
              "min           0.000000\n",
              "25%           2.000000\n",
              "50%           2.000000\n",
              "75%           3.000000\n",
              "max         750.000000\n",
              "Name: baths, dtype: float64"
            ]
          },
          "metadata": {},
          "execution_count": 236
        }
      ]
    },
    {
      "cell_type": "code",
      "source": [
        "data['baths']=data['baths'].fillna(value=data['baths'].mean())"
      ],
      "metadata": {
        "id": "ht6YM8EBcD1R"
      },
      "execution_count": 237,
      "outputs": []
    },
    {
      "cell_type": "code",
      "source": [
        "data['baths'].unique()"
      ],
      "metadata": {
        "colab": {
          "base_uri": "https://localhost:8080/"
        },
        "id": "PYVRGBTJamsF",
        "outputId": "15a54097-ee8d-459e-ca2a-c791c12501d5"
      },
      "execution_count": 238,
      "outputs": [
        {
          "output_type": "execute_result",
          "data": {
            "text/plain": [
              "array([  3.5      ,   4.2499781,   2.       ,   3.       ,   4.       ,\n",
              "         1.       ,   4.5      ,   5.       ,   1.5      ,   2.5      ,\n",
              "         8.       ,   0.       ,   7.       ,   6.       ,   5.5      ,\n",
              "       750.       ,  10.       ,  18.       ,   9.       ,  12.       ,\n",
              "         6.5      ,  14.       ,  17.       ,  16.       ,   7.5      ,\n",
              "        11.       ,  22.       ,  13.       ,  32.       ,  26.       ,\n",
              "         9.5      ,   8.5      ,  35.       ,  40.       ,  29.       ,\n",
              "        15.       ,  21.       ,  20.       ,  55.       ,  41.       ,\n",
              "        10.5      ,  27.       ,  12.5      ,  24.       ,  23.       ,\n",
              "        34.       ,  64.       ,  30.       ,  44.       ])"
            ]
          },
          "metadata": {},
          "execution_count": 238
        }
      ]
    },
    {
      "cell_type": "code",
      "source": [
        "data['baths']=data['baths'].astype(float).apply(lambda x:round(x, 1))"
      ],
      "metadata": {
        "id": "a8yVYzTIdG5_"
      },
      "execution_count": 239,
      "outputs": []
    },
    {
      "cell_type": "code",
      "source": [
        "data['baths'].unique()"
      ],
      "metadata": {
        "colab": {
          "base_uri": "https://localhost:8080/"
        },
        "id": "LDl7NFfZdW6U",
        "outputId": "8d385abe-cdf3-40a8-87c3-09e86629fa81"
      },
      "execution_count": 240,
      "outputs": [
        {
          "output_type": "execute_result",
          "data": {
            "text/plain": [
              "array([  3.5,   4.2,   2. ,   3. ,   4. ,   1. ,   4.5,   5. ,   1.5,\n",
              "         2.5,   8. ,   0. ,   7. ,   6. ,   5.5, 750. ,  10. ,  18. ,\n",
              "         9. ,  12. ,   6.5,  14. ,  17. ,  16. ,   7.5,  11. ,  22. ,\n",
              "        13. ,  32. ,  26. ,   9.5,   8.5,  35. ,  40. ,  29. ,  15. ,\n",
              "        21. ,  20. ,  55. ,  41. ,  10.5,  27. ,  12.5,  24. ,  23. ,\n",
              "        34. ,  64. ,  30. ,  44. ])"
            ]
          },
          "metadata": {},
          "execution_count": 240
        }
      ]
    },
    {
      "cell_type": "markdown",
      "source": [
        "# homeFacts"
      ],
      "metadata": {
        "id": "kuZ2rmtiCBRK"
      }
    },
    {
      "cell_type": "code",
      "source": [
        "data.homeFacts.value_counts()"
      ],
      "metadata": {
        "colab": {
          "base_uri": "https://localhost:8080/"
        },
        "id": "_gCQu0ZC77xS",
        "outputId": "78fb8fde-fb05-4e81-a3aa-ab58f4b7935b"
      },
      "execution_count": 241,
      "outputs": [
        {
          "output_type": "execute_result",
          "data": {
            "text/plain": [
              "{'atAGlanceFacts': [{'factValue': '', 'factLabel': 'Year built'}, {'factValue': '', 'factLabel': 'Remodeled year'}, {'factValue': '', 'factLabel': 'Heating'}, {'factValue': '', 'factLabel': 'Cooling'}, {'factValue': '', 'factLabel': 'Parking'}, {'factValue': '—', 'factLabel': 'lotsize'}, {'factValue': None, 'factLabel': 'Price/sqft'}]}                                                     7142\n",
              "{'atAGlanceFacts': [{'factValue': None, 'factLabel': 'Year built'}, {'factValue': None, 'factLabel': 'Remodeled year'}, {'factValue': None, 'factLabel': 'Heating'}, {'factValue': None, 'factLabel': 'Cooling'}, {'factValue': None, 'factLabel': 'Parking'}, {'factValue': None, 'factLabel': 'lotsize'}, {'factValue': None, 'factLabel': 'Price/sqft'}]}                                          3484\n",
              "{'atAGlanceFacts': [{'factValue': '', 'factLabel': 'Year built'}, {'factValue': '', 'factLabel': 'Remodeled year'}, {'factValue': '', 'factLabel': 'Heating'}, {'factValue': '', 'factLabel': 'Cooling'}, {'factValue': '', 'factLabel': 'Parking'}, {'factValue': '10000', 'factLabel': 'lotsize'}, {'factValue': None, 'factLabel': 'Price/sqft'}]}                                                  533\n",
              "{'atAGlanceFacts': [{'factValue': '', 'factLabel': 'Year built'}, {'factValue': '', 'factLabel': 'Remodeled year'}, {'factValue': '', 'factLabel': 'Heating'}, {'factValue': '', 'factLabel': 'Cooling'}, {'factValue': '', 'factLabel': 'Parking'}, {'factValue': '', 'factLabel': 'lotsize'}, {'factValue': None, 'factLabel': 'Price/sqft'}]}                                                       529\n",
              "{'atAGlanceFacts': [{'factValue': '', 'factLabel': 'Year built'}, {'factValue': '', 'factLabel': 'Remodeled year'}, {'factValue': '', 'factLabel': 'Heating'}, {'factValue': '', 'factLabel': 'Cooling'}, {'factValue': '', 'factLabel': 'Parking'}, {'factValue': '10,000 Sq. Ft.', 'factLabel': 'lotsize'}, {'factValue': None, 'factLabel': 'Price/sqft'}]}                                         370\n",
              "                                                                                                                                                                                                                                                                                                                                                                                                      ... \n",
              "{'atAGlanceFacts': [{'factValue': 'No Data', 'factLabel': 'Year built'}, {'factValue': None, 'factLabel': 'Remodeled year'}, {'factValue': 'Forced air', 'factLabel': 'Heating'}, {'factValue': 'Central', 'factLabel': 'Cooling'}, {'factValue': '1 space', 'factLabel': 'Parking'}, {'factValue': None, 'factLabel': 'lotsize'}, {'factValue': '$164', 'factLabel': 'Price/sqft'}]}                    1\n",
              "{'atAGlanceFacts': [{'factValue': '1975', 'factLabel': 'Year built'}, {'factValue': '1975', 'factLabel': 'Remodeled year'}, {'factValue': 'Central', 'factLabel': 'Heating'}, {'factValue': 'Electric', 'factLabel': 'Cooling'}, {'factValue': '', 'factLabel': 'Parking'}, {'factValue': '—', 'factLabel': 'lotsize'}, {'factValue': '$181 / Sq. Ft.', 'factLabel': 'Price/sqft'}]}                     1\n",
              "{'atAGlanceFacts': [{'factValue': '2019', 'factLabel': 'Year built'}, {'factValue': '', 'factLabel': 'Remodeled year'}, {'factValue': '', 'factLabel': 'Heating'}, {'factValue': 'Central A/C (Electric), Heat Pump', 'factLabel': 'Cooling'}, {'factValue': '', 'factLabel': 'Parking'}, {'factValue': '—', 'factLabel': 'lotsize'}, {'factValue': '$269 / Sq. Ft.', 'factLabel': 'Price/sqft'}]}       1\n",
              "{'atAGlanceFacts': [{'factValue': '2010', 'factLabel': 'Year built'}, {'factValue': '2010', 'factLabel': 'Remodeled year'}, {'factValue': 'Forced Air', 'factLabel': 'Heating'}, {'factValue': 'Central', 'factLabel': 'Cooling'}, {'factValue': '2', 'factLabel': 'Parking'}, {'factValue': '9.17 acres', 'factLabel': 'lotsize'}, {'factValue': '$1,008/sqft', 'factLabel': 'Price/sqft'}]}            1\n",
              "{'atAGlanceFacts': [{'factValue': '2019', 'factLabel': 'Year built'}, {'factValue': None, 'factLabel': 'Remodeled year'}, {'factValue': 'Electric', 'factLabel': 'Heating'}, {'factValue': 'Central', 'factLabel': 'Cooling'}, {'factValue': 'No Data', 'factLabel': 'Parking'}, {'factValue': '6,969 sqft', 'factLabel': 'lotsize'}, {'factValue': '$140', 'factLabel': 'Price/sqft'}]}                 1\n",
              "Name: homeFacts, Length: 318615, dtype: int64"
            ]
          },
          "metadata": {},
          "execution_count": 241
        }
      ]
    },
    {
      "cell_type": "markdown",
      "source": [
        "# fireplace"
      ],
      "metadata": {
        "id": "Bn9FNoWICMaX"
      }
    },
    {
      "cell_type": "code",
      "source": [
        "data.fireplace.value_counts()"
      ],
      "metadata": {
        "colab": {
          "base_uri": "https://localhost:8080/"
        },
        "id": "tU7zu0v5779U",
        "outputId": "fa8d0dd1-d8e1-495d-cdef-af593e9c0ce6"
      },
      "execution_count": 242,
      "outputs": [
        {
          "output_type": "execute_result",
          "data": {
            "text/plain": [
              "yes                                                                     49925\n",
              "Yes                                                                     20619\n",
              "1                                                                       14533\n",
              "2                                                                        2432\n",
              "Not Applicable                                                           1990\n",
              "                                                                        ...  \n",
              "Gas, Wood Burning, Two, Propane Logs Convey                                 1\n",
              "Free-standing, Insert, Wood                                                 1\n",
              "Wood Burning, Attached Fireplace Doors/Screen, Electric, Gas Starter        1\n",
              "One, Living Room                                                            1\n",
              "Ceiling Fan, SMAPL, Utility Connection, Walk-In Closets                     1\n",
              "Name: fireplace, Length: 1652, dtype: int64"
            ]
          },
          "metadata": {},
          "execution_count": 242
        }
      ]
    },
    {
      "cell_type": "code",
      "source": [
        "data.fireplace.isna().sum()"
      ],
      "metadata": {
        "colab": {
          "base_uri": "https://localhost:8080/"
        },
        "id": "NUEs6q1zk5ZK",
        "outputId": "8dd775d7-a528-48c6-f082-aacb82d779e2"
      },
      "execution_count": 243,
      "outputs": [
        {
          "output_type": "execute_result",
          "data": {
            "text/plain": [
              "271878"
            ]
          },
          "metadata": {},
          "execution_count": 243
        }
      ]
    },
    {
      "cell_type": "code",
      "source": [
        "data['fireplace']=data['fireplace'].apply(lambda x : x=='yes' if data['fireplace'].isna(x)=='False')"
      ],
      "metadata": {
        "colab": {
          "base_uri": "https://localhost:8080/",
          "height": 130
        },
        "id": "7wwVXsO3lMf7",
        "outputId": "4742f9b0-a02b-4647-ed53-7a9a352434ac"
      },
      "execution_count": 247,
      "outputs": [
        {
          "output_type": "error",
          "ename": "SyntaxError",
          "evalue": "ignored",
          "traceback": [
            "\u001b[0;36m  File \u001b[0;32m\"<ipython-input-247-7b6101f2546a>\"\u001b[0;36m, line \u001b[0;32m1\u001b[0m\n\u001b[0;31m    data['fireplace']=data['fireplace'].apply(lambda x : x=='yes' if data['fireplace'].isna(x)=='False')\u001b[0m\n\u001b[0m                                                                                                       ^\u001b[0m\n\u001b[0;31mSyntaxError\u001b[0m\u001b[0;31m:\u001b[0m invalid syntax\n"
          ]
        }
      ]
    },
    {
      "cell_type": "code",
      "source": [
        "data.fireplace.isna().sum()"
      ],
      "metadata": {
        "id": "ql0qU8B3lhb1"
      },
      "execution_count": null,
      "outputs": []
    },
    {
      "cell_type": "markdown",
      "source": [
        "# city"
      ],
      "metadata": {
        "id": "Sh0daj9ICPlx"
      }
    },
    {
      "cell_type": "code",
      "source": [
        "data.city.value_counts()"
      ],
      "metadata": {
        "id": "0Ku0RbqB78IU"
      },
      "execution_count": null,
      "outputs": []
    },
    {
      "cell_type": "markdown",
      "source": [
        "# schools"
      ],
      "metadata": {
        "id": "eUr_ZNrjCR0P"
      }
    },
    {
      "cell_type": "code",
      "source": [
        "data.schools.value_counts()"
      ],
      "metadata": {
        "id": "jpClOAuN78Xx"
      },
      "execution_count": null,
      "outputs": []
    },
    {
      "cell_type": "markdown",
      "source": [
        "# sqft"
      ],
      "metadata": {
        "id": "RH3he3K8CU0b"
      }
    },
    {
      "cell_type": "code",
      "source": [
        "data.sqft.value_counts()"
      ],
      "metadata": {
        "id": "2Ih0TsWu78ig"
      },
      "execution_count": null,
      "outputs": []
    },
    {
      "cell_type": "markdown",
      "source": [
        "# zipcode"
      ],
      "metadata": {
        "id": "8Uu9UnjWCXWo"
      }
    },
    {
      "cell_type": "code",
      "source": [
        "data.zipcode.value_counts()"
      ],
      "metadata": {
        "id": "JAD-KWYK78s_"
      },
      "execution_count": null,
      "outputs": []
    },
    {
      "cell_type": "code",
      "source": [
        "data.zipcode.value_counts().plot.barh()"
      ],
      "metadata": {
        "id": "5oIK65suuTRv"
      },
      "execution_count": null,
      "outputs": []
    },
    {
      "cell_type": "markdown",
      "source": [
        "# beds"
      ],
      "metadata": {
        "id": "wzBnS6HnCZ8D"
      }
    },
    {
      "cell_type": "code",
      "source": [
        "data.beds.value_counts()"
      ],
      "metadata": {
        "id": "FF9SrBdO783R"
      },
      "execution_count": null,
      "outputs": []
    },
    {
      "cell_type": "code",
      "source": [
        "data.beds.unique()"
      ],
      "metadata": {
        "id": "sH0wbggaeJFU"
      },
      "execution_count": null,
      "outputs": []
    },
    {
      "cell_type": "markdown",
      "source": [
        "# state"
      ],
      "metadata": {
        "id": "8xW2mb3GCce7"
      }
    },
    {
      "cell_type": "code",
      "source": [
        "data.state.value_counts()"
      ],
      "metadata": {
        "id": "ZX3d_UBz79Ad"
      },
      "execution_count": null,
      "outputs": []
    },
    {
      "cell_type": "code",
      "source": [
        "data.state.value_counts().plot.barh()"
      ],
      "metadata": {
        "id": "-MP9Vj-tvAsh"
      },
      "execution_count": null,
      "outputs": []
    },
    {
      "cell_type": "markdown",
      "source": [
        "# stories"
      ],
      "metadata": {
        "id": "oFNMgLhjChSV"
      }
    },
    {
      "cell_type": "code",
      "source": [
        "data.stories.value_counts()"
      ],
      "metadata": {
        "id": "TeKHXqWu79Jt"
      },
      "execution_count": null,
      "outputs": []
    },
    {
      "cell_type": "markdown",
      "source": [
        "# mls-id"
      ],
      "metadata": {
        "id": "JtB-DNltC1nU"
      }
    },
    {
      "cell_type": "code",
      "source": [
        "data['mls-id'].value_counts()"
      ],
      "metadata": {
        "id": "bo01v63a79TF"
      },
      "execution_count": null,
      "outputs": []
    },
    {
      "cell_type": "code",
      "source": [
        "data.drop(['mls-id',], axis=1, inplace=True)"
      ],
      "metadata": {
        "id": "8nwAj_4UM-7F"
      },
      "execution_count": null,
      "outputs": []
    },
    {
      "cell_type": "markdown",
      "source": [
        "# PrivatePool"
      ],
      "metadata": {
        "id": "w6nDaBMwC4Ue"
      }
    },
    {
      "cell_type": "code",
      "source": [
        "data.PrivatePool.value_counts()"
      ],
      "metadata": {
        "id": "7gjcqCkg79c7"
      },
      "execution_count": null,
      "outputs": []
    },
    {
      "cell_type": "code",
      "source": [
        "data['PrivatePool']=data['PrivatePool'].fillna(value='Not', inplace=True)"
      ],
      "metadata": {
        "id": "P5ivkJ1hSAyl"
      },
      "execution_count": null,
      "outputs": []
    },
    {
      "cell_type": "code",
      "source": [
        "data['PrivatePool'] = data['PrivatePool'].astype(str)\n",
        "data['PrivatePool'] = data['PrivatePool'].apply(lambda x: x.lower())"
      ],
      "metadata": {
        "id": "Iz5zCQ7CTZAO"
      },
      "execution_count": null,
      "outputs": []
    },
    {
      "cell_type": "code",
      "source": [
        "data['PrivatePool'].value_counts()"
      ],
      "metadata": {
        "id": "YZnxnDC_TmBv"
      },
      "execution_count": null,
      "outputs": []
    },
    {
      "cell_type": "markdown",
      "source": [
        "# MlsId"
      ],
      "metadata": {
        "id": "xDxkYbdXC9H1"
      }
    },
    {
      "cell_type": "code",
      "source": [
        "data['MlsId'].value_counts()"
      ],
      "metadata": {
        "id": "3t3Axg8r79nl"
      },
      "execution_count": null,
      "outputs": []
    },
    {
      "cell_type": "code",
      "source": [
        "data['MlsId'] = pd.to_numeric(data['MlsId'], errors='coerce')"
      ],
      "metadata": {
        "id": "5ByGDTSKUWQE"
      },
      "execution_count": null,
      "outputs": []
    },
    {
      "cell_type": "code",
      "source": [
        "data['MlsId'].value_counts()"
      ],
      "metadata": {
        "id": "YDQ5epdIUtRC"
      },
      "execution_count": null,
      "outputs": []
    },
    {
      "cell_type": "code",
      "source": [
        "data['MlsId']=data['MlsId'].fillna(value=data['MlsId'].mean())"
      ],
      "metadata": {
        "id": "FFR0YynQb0Vv"
      },
      "execution_count": null,
      "outputs": []
    },
    {
      "cell_type": "code",
      "source": [
        "data.isna().sum()"
      ],
      "metadata": {
        "id": "Yd5onoM_XhQx"
      },
      "execution_count": null,
      "outputs": []
    }
  ]
}